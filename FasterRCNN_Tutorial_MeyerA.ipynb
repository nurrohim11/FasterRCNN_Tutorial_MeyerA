{
  "cells": [
    {
      "cell_type": "markdown",
      "metadata": {
        "id": "eBG7ZQ_pcEah"
      },
      "source": [
        "# Object Detection Tutorial with Faster R-CNN Transfer Learning\n",
        "## Geopython 2019, Adrian F. Meyer\n",
        "Parts of this tutorial are based on the [Medium article](https://hackernoon.com/object-detection-in-google-colab-with-custom-dataset-5a7bb2b0e97e) by RomRoc, 2018.\n",
        "\n",
        "**In this Tutorial we will learn, how to use the Tensorflow Object Detection library, to detect solar panels on tiles of an aerial orthomosaic.**\n",
        "\n",
        "![alt text](https://wilddrone.ch/wp-content/uploads/2019/06/solardetector.jpg)\n",
        "\n",
        "The code, libraries and cloud environments used in this tutorial are currently available for free and are generally released open source.\n",
        "You will need a Google account to execute the Notebook in its entirety, because it is meant to be executed on the Google Colab platform.\n",
        "\n",
        "*Go to [Google Colab](https://colab.research.google.com/) and upload the notebook there. Make sure that you use Python 3 and GPU hardware acceleration as Runtime Environment.*\n",
        "\n",
        "The dataset provided is based on the publically available SwissImage orthomosaic by [SwissTopo](https://map.geo.admin.ch/?topic=swisstopo&lang=de&bgLayer=ch.swisstopo.swissimage). \n",
        "The images and annotations can be downloaded as Zip File (31 Mbyte) here:\n",
        "[https://drive.google.com/file/d/1i9RlEJTeB-KRauwhuMp-Vl13-Z3Yrj_y/view?usp=sharing](https://drive.google.com/file/d/1i9RlEJTeB-KRauwhuMp-Vl13-Z3Yrj_y/view?usp=sharing)\n",
        "\n",
        "\n",
        "\n",
        "![alt text](https://wilddrone.ch/wp-content/uploads/2019/06/Tiles.jpg)"
      ]
    },
    {
      "cell_type": "markdown",
      "metadata": {
        "id": "KWJHCmFs_Vg6"
      },
      "source": [
        "# Download Tensorflow Repo and Python Modules\n",
        "By executing the first code snippet you initialize your virtual linux-style machine. Use The little arrow \">\" in the top left corner to view the file system of your hosted system.\n",
        "You can use UNIX-style terminal commands by using the prefix % and elevated priviledge commands for installations with the prefix !."
      ]
    },
    {
      "cell_type": "code",
      "execution_count": 1,
      "metadata": {
        "colab": {
          "base_uri": "https://localhost:8080/",
          "height": 437
        },
        "id": "rsxgHEoV8J56",
        "outputId": "895e091e-9d58-41c1-a7d0-c04b58e29596"
      },
      "outputs": [
        {
          "output_type": "stream",
          "name": "stdout",
          "text": [
            "Collecting numpy==1.17.4\n",
            "  Downloading numpy-1.17.4-cp37-cp37m-manylinux1_x86_64.whl (20.0 MB)\n",
            "\u001b[K     |████████████████████████████████| 20.0 MB 1.3 MB/s \n",
            "\u001b[?25hInstalling collected packages: numpy\n",
            "  Attempting uninstall: numpy\n",
            "    Found existing installation: numpy 1.21.6\n",
            "    Uninstalling numpy-1.21.6:\n",
            "      Successfully uninstalled numpy-1.21.6\n",
            "\u001b[31mERROR: pip's dependency resolver does not currently take into account all the packages that are installed. This behaviour is the source of the following dependency conflicts.\n",
            "tensorflow 2.8.0 requires tf-estimator-nightly==2.8.0.dev2021122109, which is not installed.\n",
            "tensorflow 2.8.0 requires numpy>=1.20, but you have numpy 1.17.4 which is incompatible.\n",
            "tables 3.7.0 requires numpy>=1.19.0, but you have numpy 1.17.4 which is incompatible.\n",
            "kapre 0.3.7 requires numpy>=1.18.5, but you have numpy 1.17.4 which is incompatible.\n",
            "jaxlib 0.3.7+cuda11.cudnn805 requires numpy>=1.19, but you have numpy 1.17.4 which is incompatible.\n",
            "jax 0.3.8 requires numpy>=1.19, but you have numpy 1.17.4 which is incompatible.\n",
            "datascience 0.10.6 requires folium==0.2.1, but you have folium 0.8.3 which is incompatible.\n",
            "albumentations 0.1.12 requires imgaug<0.2.7,>=0.2.5, but you have imgaug 0.2.9 which is incompatible.\u001b[0m\n",
            "Successfully installed numpy-1.17.4\n"
          ]
        },
        {
          "output_type": "display_data",
          "data": {
            "application/vnd.colab-display-data+json": {
              "pip_warning": {
                "packages": [
                  "numpy"
                ]
              }
            }
          },
          "metadata": {}
        }
      ],
      "source": [
        "pip install numpy==1.17.4"
      ]
    },
    {
      "cell_type": "code",
      "execution_count": 1,
      "metadata": {
        "colab": {
          "base_uri": "https://localhost:8080/"
        },
        "id": "H9NdpuUj8MB9",
        "outputId": "576e6e28-2ced-4e0f-bd3d-7553e13e7235"
      },
      "outputs": [
        {
          "output_type": "stream",
          "name": "stdout",
          "text": [
            "/root\n",
            "TensorFlow 1.x selected.\n",
            "1.15.2\n"
          ]
        }
      ],
      "source": [
        "%cd\n",
        "%tensorflow_version 1.x\n",
        "\n",
        "#make sure to be in /root and that tensorflow is running in version 1.15.2\n",
        "import tensorflow as tf\n",
        "print(tf.__version__)"
      ]
    },
    {
      "cell_type": "code",
      "execution_count": 2,
      "metadata": {
        "colab": {
          "base_uri": "https://localhost:8080/"
        },
        "id": "hJ7NlRzJ8OKX",
        "outputId": "410d180d-0877-4167-c9cd-84c64e0d522f"
      },
      "outputs": [
        {
          "output_type": "stream",
          "name": "stdout",
          "text": [
            "Fri May 13 00:16:38 2022       \n",
            "+-----------------------------------------------------------------------------+\n",
            "| NVIDIA-SMI 460.32.03    Driver Version: 460.32.03    CUDA Version: 11.2     |\n",
            "|-------------------------------+----------------------+----------------------+\n",
            "| GPU  Name        Persistence-M| Bus-Id        Disp.A | Volatile Uncorr. ECC |\n",
            "| Fan  Temp  Perf  Pwr:Usage/Cap|         Memory-Usage | GPU-Util  Compute M. |\n",
            "|                               |                      |               MIG M. |\n",
            "|===============================+======================+======================|\n",
            "|   0  Tesla T4            Off  | 00000000:00:04.0 Off |                    0 |\n",
            "| N/A   40C    P0    27W /  70W |    104MiB / 15109MiB |      0%      Default |\n",
            "|                               |                      |                  N/A |\n",
            "+-------------------------------+----------------------+----------------------+\n",
            "                                                                               \n",
            "+-----------------------------------------------------------------------------+\n",
            "| Processes:                                                                  |\n",
            "|  GPU   GI   CI        PID   Type   Process name                  GPU Memory |\n",
            "|        ID   ID                                                   Usage      |\n",
            "|=============================================================================|\n",
            "+-----------------------------------------------------------------------------+\n"
          ]
        }
      ],
      "source": [
        "\"\"\"\n",
        "This allows you to check which GPU you have been allocated. Google offers free\n",
        "Tesla T4, Tesla K80, Tesla P100 (the P100 hax 1.6x more GFLOPs and 3x the memory bandwith than K80, the T4 is fairly slow).\n",
        "In theory you can restart the environment until you have the fast one. \n",
        "For testing and learning it doesn't really matter.\n",
        "\"\"\"\n",
        "  \n",
        "#We have to work with Tensorflow 1.15.2 for code compatibility reasons; by now TF v2 is available.\n",
        "from tensorflow.python.client import device_lib\n",
        "device_lib.list_local_devices()\n",
        "!nvidia-smi"
      ]
    },
    {
      "cell_type": "code",
      "execution_count": 3,
      "metadata": {
        "colab": {
          "base_uri": "https://localhost:8080/"
        },
        "id": "2dyvc3xTxsy0",
        "outputId": "33b1b55f-53e1-4c4a-b062-954bb88d578d"
      },
      "outputs": [
        {
          "output_type": "stream",
          "name": "stdout",
          "text": [
            "/root\n",
            "Cloning into 'models'...\n",
            "remote: Enumerating objects: 72856, done.\u001b[K\n",
            "remote: Counting objects: 100% (31/31), done.\u001b[K\n",
            "remote: Compressing objects: 100% (26/26), done.\u001b[K\n",
            "remote: Total 72856 (delta 14), reused 14 (delta 5), pack-reused 72825\u001b[K\n",
            "Receiving objects: 100% (72856/72856), 579.23 MiB | 39.18 MiB/s, done.\n",
            "Resolving deltas: 100% (51563/51563), done.\n",
            "Reading package lists... Done\n",
            "Building dependency tree       \n",
            "Reading state information... Done\n",
            "protobuf-compiler is already the newest version (3.0.0-9.1ubuntu1).\n",
            "python-tk is already the newest version (2.7.17-1~18.04).\n",
            "The following packages were automatically installed and are no longer required:\n",
            "  libnvidia-common-460 nsight-compute-2020.2.0\n",
            "Use 'apt autoremove' to remove them.\n",
            "0 upgraded, 0 newly installed, 0 to remove and 42 not upgraded.\n",
            "Requirement already satisfied: Cython in /usr/local/lib/python3.7/dist-packages (0.29.28)\n",
            "Requirement already satisfied: contextlib2 in /usr/local/lib/python3.7/dist-packages (0.5.5)\n",
            "Requirement already satisfied: pillow in /usr/local/lib/python3.7/dist-packages (7.1.2)\n",
            "Requirement already satisfied: lxml in /usr/local/lib/python3.7/dist-packages (4.2.6)\n",
            "Requirement already satisfied: matplotlib in /usr/local/lib/python3.7/dist-packages (3.2.2)\n",
            "Requirement already satisfied: PyDrive in /usr/local/lib/python3.7/dist-packages (1.3.1)\n",
            "Requirement already satisfied: pyparsing!=2.0.4,!=2.1.2,!=2.1.6,>=2.0.1 in /usr/local/lib/python3.7/dist-packages (from matplotlib) (3.0.8)\n",
            "Requirement already satisfied: python-dateutil>=2.1 in /usr/local/lib/python3.7/dist-packages (from matplotlib) (2.8.2)\n",
            "Requirement already satisfied: cycler>=0.10 in /usr/local/lib/python3.7/dist-packages (from matplotlib) (0.11.0)\n",
            "Requirement already satisfied: numpy>=1.11 in /usr/local/lib/python3.7/dist-packages (from matplotlib) (1.17.4)\n",
            "Requirement already satisfied: kiwisolver>=1.0.1 in /usr/local/lib/python3.7/dist-packages (from matplotlib) (1.4.2)\n",
            "Requirement already satisfied: typing-extensions in /usr/local/lib/python3.7/dist-packages (from kiwisolver>=1.0.1->matplotlib) (4.2.0)\n",
            "Requirement already satisfied: six>=1.5 in /usr/local/lib/python3.7/dist-packages (from python-dateutil>=2.1->matplotlib) (1.15.0)\n",
            "Requirement already satisfied: google-api-python-client>=1.2 in /usr/local/lib/python3.7/dist-packages (from PyDrive) (1.12.11)\n",
            "Requirement already satisfied: oauth2client>=4.0.0 in /usr/local/lib/python3.7/dist-packages (from PyDrive) (4.1.3)\n",
            "Requirement already satisfied: PyYAML>=3.0 in /usr/local/lib/python3.7/dist-packages (from PyDrive) (3.13)\n",
            "Requirement already satisfied: httplib2<1dev,>=0.15.0 in /usr/local/lib/python3.7/dist-packages (from google-api-python-client>=1.2->PyDrive) (0.17.4)\n",
            "Requirement already satisfied: google-api-core<3dev,>=1.21.0 in /usr/local/lib/python3.7/dist-packages (from google-api-python-client>=1.2->PyDrive) (1.31.5)\n",
            "Requirement already satisfied: google-auth-httplib2>=0.0.3 in /usr/local/lib/python3.7/dist-packages (from google-api-python-client>=1.2->PyDrive) (0.0.4)\n",
            "Requirement already satisfied: uritemplate<4dev,>=3.0.0 in /usr/local/lib/python3.7/dist-packages (from google-api-python-client>=1.2->PyDrive) (3.0.1)\n",
            "Requirement already satisfied: google-auth<3dev,>=1.16.0 in /usr/local/lib/python3.7/dist-packages (from google-api-python-client>=1.2->PyDrive) (1.35.0)\n",
            "Requirement already satisfied: requests<3.0.0dev,>=2.18.0 in /usr/local/lib/python3.7/dist-packages (from google-api-core<3dev,>=1.21.0->google-api-python-client>=1.2->PyDrive) (2.23.0)\n",
            "Requirement already satisfied: pytz in /usr/local/lib/python3.7/dist-packages (from google-api-core<3dev,>=1.21.0->google-api-python-client>=1.2->PyDrive) (2022.1)\n",
            "Requirement already satisfied: packaging>=14.3 in /usr/local/lib/python3.7/dist-packages (from google-api-core<3dev,>=1.21.0->google-api-python-client>=1.2->PyDrive) (21.3)\n",
            "Requirement already satisfied: googleapis-common-protos<2.0dev,>=1.6.0 in /usr/local/lib/python3.7/dist-packages (from google-api-core<3dev,>=1.21.0->google-api-python-client>=1.2->PyDrive) (1.56.0)\n",
            "Requirement already satisfied: protobuf>=3.12.0 in /usr/local/lib/python3.7/dist-packages (from google-api-core<3dev,>=1.21.0->google-api-python-client>=1.2->PyDrive) (3.17.3)\n",
            "Requirement already satisfied: setuptools>=40.3.0 in /usr/local/lib/python3.7/dist-packages (from google-api-core<3dev,>=1.21.0->google-api-python-client>=1.2->PyDrive) (57.4.0)\n",
            "Requirement already satisfied: cachetools<5.0,>=2.0.0 in /usr/local/lib/python3.7/dist-packages (from google-auth<3dev,>=1.16.0->google-api-python-client>=1.2->PyDrive) (4.2.4)\n",
            "Requirement already satisfied: rsa<5,>=3.1.4 in /usr/local/lib/python3.7/dist-packages (from google-auth<3dev,>=1.16.0->google-api-python-client>=1.2->PyDrive) (4.8)\n",
            "Requirement already satisfied: pyasn1-modules>=0.2.1 in /usr/local/lib/python3.7/dist-packages (from google-auth<3dev,>=1.16.0->google-api-python-client>=1.2->PyDrive) (0.2.8)\n",
            "Requirement already satisfied: pyasn1>=0.1.7 in /usr/local/lib/python3.7/dist-packages (from oauth2client>=4.0.0->PyDrive) (0.4.8)\n",
            "Requirement already satisfied: certifi>=2017.4.17 in /usr/local/lib/python3.7/dist-packages (from requests<3.0.0dev,>=2.18.0->google-api-core<3dev,>=1.21.0->google-api-python-client>=1.2->PyDrive) (2021.10.8)\n",
            "Requirement already satisfied: idna<3,>=2.5 in /usr/local/lib/python3.7/dist-packages (from requests<3.0.0dev,>=2.18.0->google-api-core<3dev,>=1.21.0->google-api-python-client>=1.2->PyDrive) (2.10)\n",
            "Requirement already satisfied: urllib3!=1.25.0,!=1.25.1,<1.26,>=1.21.1 in /usr/local/lib/python3.7/dist-packages (from requests<3.0.0dev,>=2.18.0->google-api-core<3dev,>=1.21.0->google-api-python-client>=1.2->PyDrive) (1.24.3)\n",
            "Requirement already satisfied: chardet<4,>=3.0.2 in /usr/local/lib/python3.7/dist-packages (from requests<3.0.0dev,>=2.18.0->google-api-core<3dev,>=1.21.0->google-api-python-client>=1.2->PyDrive) (3.0.4)\n",
            "Requirement already satisfied: pycocotools in /usr/local/lib/python3.7/dist-packages (2.0.4)\n",
            "Requirement already satisfied: matplotlib>=2.1.0 in /usr/local/lib/python3.7/dist-packages (from pycocotools) (3.2.2)\n",
            "Requirement already satisfied: numpy in /usr/local/lib/python3.7/dist-packages (from pycocotools) (1.17.4)\n",
            "Requirement already satisfied: kiwisolver>=1.0.1 in /usr/local/lib/python3.7/dist-packages (from matplotlib>=2.1.0->pycocotools) (1.4.2)\n",
            "Requirement already satisfied: cycler>=0.10 in /usr/local/lib/python3.7/dist-packages (from matplotlib>=2.1.0->pycocotools) (0.11.0)\n",
            "Requirement already satisfied: pyparsing!=2.0.4,!=2.1.2,!=2.1.6,>=2.0.1 in /usr/local/lib/python3.7/dist-packages (from matplotlib>=2.1.0->pycocotools) (3.0.8)\n",
            "Requirement already satisfied: python-dateutil>=2.1 in /usr/local/lib/python3.7/dist-packages (from matplotlib>=2.1.0->pycocotools) (2.8.2)\n",
            "Requirement already satisfied: typing-extensions in /usr/local/lib/python3.7/dist-packages (from kiwisolver>=1.0.1->matplotlib>=2.1.0->pycocotools) (4.2.0)\n",
            "Requirement already satisfied: six>=1.5 in /usr/local/lib/python3.7/dist-packages (from python-dateutil>=2.1->matplotlib>=2.1.0->pycocotools) (1.15.0)\n",
            "/root/models/research\n"
          ]
        }
      ],
      "source": [
        "%cd\n",
        "  \n",
        "!git clone https://github.com/tensorflow/models.git\n",
        "  \n",
        "\"\"\"\n",
        "This repository contains a number of different models implemented in TensorFlow:\n",
        "The official models are a collection of example models that use TensorFlow's high-level APIs. They are intended to be well-maintained, tested, and kept up to date with the latest stable TensorFlow API. They should also be reasonably optimized for fast performance while still being easy to read. We especially recommend newer TensorFlow users to start here.\n",
        "The research models are a large collection of models implemented in TensorFlow by researchers. They are not officially supported or available in release branches; it is up to the individual researchers to maintain the models and/or provide support on issues and pull requests.\n",
        "The samples folder contains code snippets and smaller models that demonstrate features of TensorFlow, including code presented in various blog posts.\n",
        "\"\"\"  \n",
        "\n",
        "!apt-get install protobuf-compiler python-tk\n",
        "\n",
        "\"\"\"\n",
        "Protocol buffers are Google's language-neutral, platform-neutral, extensible mechanism for serializing structured data; similar to JSON or XML.\n",
        "\"\"\"\n",
        "\n",
        "!pip install Cython contextlib2 pillow lxml matplotlib PyDrive\n",
        "\"\"\"\n",
        "These context modules are necessary python pachages. Especially Cython is important: It allows to call native C or C++ bindings from within python.\n",
        "\"\"\"\n",
        "\n",
        "!pip install pycocotools\n",
        "\"\"\"\n",
        "COCO is a large image dataset designed for object detection, segmentation, person keypoints detection, stuff segmentation, and caption generation. \n",
        "\"\"\"\n",
        "\n",
        "%cd ~/models/research\n",
        "!protoc object_detection/protos/*.proto --python_out=. #This initializes/compiles the Tensorflow Protobuf evnironment.\n",
        "\n",
        "import os\n",
        "os.environ['PYTHONPATH'] += ':/models/research/:/models/research/slim/'\n"
      ]
    },
    {
      "cell_type": "markdown",
      "metadata": {
        "id": "RVXThN8P_itE"
      },
      "source": [
        "# Install Tensorflow on Virtual Machine"
      ]
    },
    {
      "cell_type": "code",
      "execution_count": 4,
      "metadata": {
        "colab": {
          "base_uri": "https://localhost:8080/",
          "height": 70
        },
        "id": "Alxt_PF4yBae",
        "outputId": "65bb1263-d022-4084-9f6c-8c0c0716f7b8"
      },
      "outputs": [
        {
          "output_type": "stream",
          "name": "stdout",
          "text": [
            "python3: can't open file 'setup.py': [Errno 2] No such file or directory\n",
            "python3: can't open file 'setup.py': [Errno 2] No such file or directory\n"
          ]
        },
        {
          "output_type": "execute_result",
          "data": {
            "text/plain": [
              "'\\nThis snippet builds and installs the Tensorflow API from the cloned git source.\\n'"
            ],
            "application/vnd.google.colaboratory.intrinsic+json": {
              "type": "string"
            }
          },
          "metadata": {},
          "execution_count": 4
        }
      ],
      "source": [
        "!python setup.py build\n",
        "!python setup.py install > /dev/null\n",
        "\"\"\"\n",
        "This snippet builds and installs the Tensorflow API from the cloned git source.\n",
        "\"\"\""
      ]
    },
    {
      "cell_type": "code",
      "execution_count": 4,
      "metadata": {
        "id": "Jr4Qf_v-SDeQ"
      },
      "outputs": [],
      "source": [
        ""
      ]
    },
    {
      "cell_type": "code",
      "execution_count": 6,
      "metadata": {
        "colab": {
          "base_uri": "https://localhost:8080/",
          "height": 333
        },
        "id": "THX1UucO0L5X",
        "outputId": "60b947f3-9ac5-4a02-eb6d-6187e77c578a"
      },
      "outputs": [
        {
          "output_type": "stream",
          "name": "stdout",
          "text": [
            "/root/models/research/slim\n",
            "Obtaining file:///root/models/research/slim\n",
            "Requirement already satisfied: six in /usr/local/lib/python3.7/dist-packages (from slim==0.1) (1.15.0)\n",
            "Requirement already satisfied: tf-slim>=1.1 in /usr/local/lib/python3.7/dist-packages (from slim==0.1) (1.1.0)\n",
            "Requirement already satisfied: absl-py>=0.2.2 in /usr/local/lib/python3.7/dist-packages (from tf-slim>=1.1->slim==0.1) (1.0.0)\n",
            "Installing collected packages: slim\n",
            "  Attempting uninstall: slim\n",
            "    Found existing installation: slim 0.1\n",
            "    Can't uninstall 'slim'. No files were found to uninstall.\n",
            "  Running setup.py develop for slim\n",
            "Successfully installed slim-0.1\n",
            "/root/models/research\n",
            "Traceback (most recent call last):\n",
            "  File \"object_detection/builders/model_builder_test.py\", line 20, in <module>\n",
            "    from object_detection.builders import model_builder\n",
            "ModuleNotFoundError: No module named 'object_detection'\n"
          ]
        },
        {
          "output_type": "execute_result",
          "data": {
            "text/plain": [
              "'\\nThis tests if the installation was successful. The Tests should yield the output [ RUN  OK ]\\n'"
            ],
            "application/vnd.google.colaboratory.intrinsic+json": {
              "type": "string"
            }
          },
          "metadata": {},
          "execution_count": 6
        }
      ],
      "source": [
        "%cd slim\n",
        "!pip install -e .\n",
        "\n",
        "%cd ..\n",
        "!python object_detection/builders/model_builder_test.py\n",
        "\"\"\"\n",
        "This tests if the installation was successful. The Tests should yield the output [ RUN  OK ]\n",
        "\"\"\""
      ]
    },
    {
      "cell_type": "markdown",
      "metadata": {
        "id": "ceHKJMfzHdg9"
      },
      "source": [
        "#Upload and Import Dataset"
      ]
    },
    {
      "cell_type": "code",
      "execution_count": 8,
      "metadata": {
        "colab": {
          "base_uri": "https://localhost:8080/",
          "height": 261
        },
        "id": "CI9EJ13NBLVd",
        "outputId": "95ebf64e-412c-4a05-c0f5-966ae1a34245"
      },
      "outputs": [
        {
          "output_type": "stream",
          "name": "stdout",
          "text": [
            "/datalab\n",
            "--2022-05-13 00:19:20--  http://2019.geopython.net/data/solar.zip\n",
            "Resolving 2019.geopython.net (2019.geopython.net)... 147.86.7.67\n",
            "Connecting to 2019.geopython.net (2019.geopython.net)|147.86.7.67|:80... connected.\n",
            "HTTP request sent, awaiting response... 200 OK\n",
            "Length: 33438193 (32M) [application/zip]\n",
            "Saving to: ‘solar.zip.1’\n",
            "\n",
            "solar.zip.1         100%[===================>]  31.89M  18.6MB/s    in 1.7s    \n",
            "\n",
            "2022-05-13 00:19:22 (18.6 MB/s) - ‘solar.zip.1’ saved [33438193/33438193]\n",
            "\n"
          ]
        },
        {
          "output_type": "execute_result",
          "data": {
            "text/plain": [
              "'\\nWe download the images, annotation files and independent test samples into the datalab folder.\\n'"
            ],
            "application/vnd.google.colaboratory.intrinsic+json": {
              "type": "string"
            }
          },
          "metadata": {},
          "execution_count": 8
        }
      ],
      "source": [
        "%cd /datalab\n",
        "!wget http://2019.geopython.net/data/solar.zip\n",
        "\"\"\"\n",
        "We download the images, annotation files and independent test samples into the datalab folder.\n",
        "\"\"\""
      ]
    },
    {
      "cell_type": "code",
      "execution_count": 9,
      "metadata": {
        "colab": {
          "base_uri": "https://localhost:8080/"
        },
        "id": "aaaI150MDVLq",
        "outputId": "2629fdc7-c975-475f-d789-bebafe4da14b"
      },
      "outputs": [
        {
          "output_type": "stream",
          "name": "stdout",
          "text": [
            "/datalab\n",
            "Archive:  solar.zip\n",
            "   creating: annotations/\n",
            "   creating: annotations/xmls/\n",
            " extracting: annotations/xmls/solar_10.xml  \n",
            " extracting: annotations/xmls/solar_100.xml  \n",
            " extracting: annotations/xmls/solar_101.xml  \n",
            " extracting: annotations/xmls/solar_103.xml  \n",
            " extracting: annotations/xmls/solar_104.xml  \n",
            " extracting: annotations/xmls/solar_105.xml  \n",
            " extracting: annotations/xmls/solar_106.xml  \n",
            " extracting: annotations/xmls/solar_107.xml  \n",
            " extracting: annotations/xmls/solar_108.xml  \n",
            " extracting: annotations/xmls/solar_11.xml  \n",
            " extracting: annotations/xmls/solar_110.xml  \n",
            " extracting: annotations/xmls/solar_112.xml  \n",
            " extracting: annotations/xmls/solar_113.xml  \n",
            " extracting: annotations/xmls/solar_115.xml  \n",
            " extracting: annotations/xmls/solar_116.xml  \n",
            " extracting: annotations/xmls/solar_117.xml  \n",
            " extracting: annotations/xmls/solar_118.xml  \n",
            " extracting: annotations/xmls/solar_119.xml  \n",
            " extracting: annotations/xmls/solar_12.xml  \n",
            " extracting: annotations/xmls/solar_120.xml  \n",
            " extracting: annotations/xmls/solar_121.xml  \n",
            " extracting: annotations/xmls/solar_122.xml  \n",
            " extracting: annotations/xmls/solar_123.xml  \n",
            " extracting: annotations/xmls/solar_124.xml  \n",
            " extracting: annotations/xmls/solar_125.xml  \n",
            " extracting: annotations/xmls/solar_128.xml  \n",
            " extracting: annotations/xmls/solar_130.xml  \n",
            " extracting: annotations/xmls/solar_132.xml  \n",
            " extracting: annotations/xmls/solar_133.xml  \n",
            " extracting: annotations/xmls/solar_134.xml  \n",
            " extracting: annotations/xmls/solar_136.xml  \n",
            " extracting: annotations/xmls/solar_139.xml  \n",
            " extracting: annotations/xmls/solar_14.xml  \n",
            " extracting: annotations/xmls/solar_140.xml  \n",
            " extracting: annotations/xmls/solar_141.xml  \n",
            " extracting: annotations/xmls/solar_142.xml  \n",
            " extracting: annotations/xmls/solar_144.xml  \n",
            " extracting: annotations/xmls/solar_145.xml  \n",
            " extracting: annotations/xmls/solar_146.xml  \n",
            " extracting: annotations/xmls/solar_150.xml  \n",
            " extracting: annotations/xmls/solar_151.xml  \n",
            " extracting: annotations/xmls/solar_152.xml  \n",
            " extracting: annotations/xmls/solar_153.xml  \n",
            " extracting: annotations/xmls/solar_154.xml  \n",
            " extracting: annotations/xmls/solar_155.xml  \n",
            " extracting: annotations/xmls/solar_156.xml  \n",
            " extracting: annotations/xmls/solar_157.xml  \n",
            " extracting: annotations/xmls/solar_158.xml  \n",
            " extracting: annotations/xmls/solar_159.xml  \n",
            " extracting: annotations/xmls/solar_16.xml  \n",
            " extracting: annotations/xmls/solar_160.xml  \n",
            " extracting: annotations/xmls/solar_161.xml  \n",
            " extracting: annotations/xmls/solar_162.xml  \n",
            " extracting: annotations/xmls/solar_163.xml  \n",
            " extracting: annotations/xmls/solar_164.xml  \n",
            " extracting: annotations/xmls/solar_165.xml  \n",
            " extracting: annotations/xmls/solar_167.xml  \n",
            " extracting: annotations/xmls/solar_168.xml  \n",
            " extracting: annotations/xmls/solar_17.xml  \n",
            " extracting: annotations/xmls/solar_171.xml  \n",
            " extracting: annotations/xmls/solar_172.xml  \n",
            " extracting: annotations/xmls/solar_173.xml  \n",
            " extracting: annotations/xmls/solar_174.xml  \n",
            " extracting: annotations/xmls/solar_176.xml  \n",
            " extracting: annotations/xmls/solar_177.xml  \n",
            " extracting: annotations/xmls/solar_178.xml  \n",
            " extracting: annotations/xmls/solar_179.xml  \n",
            " extracting: annotations/xmls/solar_18.xml  \n",
            " extracting: annotations/xmls/solar_180.xml  \n",
            " extracting: annotations/xmls/solar_181.xml  \n",
            " extracting: annotations/xmls/solar_182.xml  \n",
            " extracting: annotations/xmls/solar_183.xml  \n",
            " extracting: annotations/xmls/solar_185.xml  \n",
            " extracting: annotations/xmls/solar_186.xml  \n",
            " extracting: annotations/xmls/solar_188.xml  \n",
            " extracting: annotations/xmls/solar_19.xml  \n",
            " extracting: annotations/xmls/solar_190.xml  \n",
            " extracting: annotations/xmls/solar_191.xml  \n",
            " extracting: annotations/xmls/solar_193.xml  \n",
            " extracting: annotations/xmls/solar_195.xml  \n",
            " extracting: annotations/xmls/solar_196.xml  \n",
            " extracting: annotations/xmls/solar_197.xml  \n",
            " extracting: annotations/xmls/solar_198.xml  \n",
            " extracting: annotations/xmls/solar_199.xml  \n",
            " extracting: annotations/xmls/solar_2.xml  \n",
            " extracting: annotations/xmls/solar_20.xml  \n",
            " extracting: annotations/xmls/solar_200.xml  \n",
            " extracting: annotations/xmls/solar_201.xml  \n",
            " extracting: annotations/xmls/solar_202.xml  \n",
            " extracting: annotations/xmls/solar_204.xml  \n",
            " extracting: annotations/xmls/solar_205.xml  \n",
            " extracting: annotations/xmls/solar_206.xml  \n",
            " extracting: annotations/xmls/solar_207.xml  \n",
            " extracting: annotations/xmls/solar_209.xml  \n",
            " extracting: annotations/xmls/solar_21.xml  \n",
            " extracting: annotations/xmls/solar_210.xml  \n",
            " extracting: annotations/xmls/solar_211.xml  \n",
            " extracting: annotations/xmls/solar_214.xml  \n",
            " extracting: annotations/xmls/solar_215.xml  \n",
            " extracting: annotations/xmls/solar_217.xml  \n",
            " extracting: annotations/xmls/solar_219.xml  \n",
            " extracting: annotations/xmls/solar_22.xml  \n",
            " extracting: annotations/xmls/solar_220.xml  \n",
            " extracting: annotations/xmls/solar_221.xml  \n",
            " extracting: annotations/xmls/solar_224.xml  \n",
            " extracting: annotations/xmls/solar_227.xml  \n",
            " extracting: annotations/xmls/solar_228.xml  \n",
            " extracting: annotations/xmls/solar_229.xml  \n",
            " extracting: annotations/xmls/solar_230.xml  \n",
            " extracting: annotations/xmls/solar_235.xml  \n",
            " extracting: annotations/xmls/solar_236.xml  \n",
            " extracting: annotations/xmls/solar_239.xml  \n",
            " extracting: annotations/xmls/solar_24.xml  \n",
            " extracting: annotations/xmls/solar_240.xml  \n",
            " extracting: annotations/xmls/solar_241.xml  \n",
            " extracting: annotations/xmls/solar_243.xml  \n",
            " extracting: annotations/xmls/solar_244.xml  \n",
            " extracting: annotations/xmls/solar_245.xml  \n",
            " extracting: annotations/xmls/solar_247.xml  \n",
            " extracting: annotations/xmls/solar_248.xml  \n",
            " extracting: annotations/xmls/solar_249.xml  \n",
            " extracting: annotations/xmls/solar_25.xml  \n",
            " extracting: annotations/xmls/solar_252.xml  \n",
            " extracting: annotations/xmls/solar_253.xml  \n",
            " extracting: annotations/xmls/solar_254.xml  \n",
            " extracting: annotations/xmls/solar_257.xml  \n",
            " extracting: annotations/xmls/solar_258.xml  \n",
            " extracting: annotations/xmls/solar_26.xml  \n",
            " extracting: annotations/xmls/solar_261.xml  \n",
            " extracting: annotations/xmls/solar_263.xml  \n",
            " extracting: annotations/xmls/solar_264.xml  \n",
            " extracting: annotations/xmls/solar_265.xml  \n",
            " extracting: annotations/xmls/solar_266.xml  \n",
            " extracting: annotations/xmls/solar_268.xml  \n",
            " extracting: annotations/xmls/solar_269.xml  \n",
            " extracting: annotations/xmls/solar_27.xml  \n",
            " extracting: annotations/xmls/solar_270.xml  \n",
            " extracting: annotations/xmls/solar_271.xml  \n",
            " extracting: annotations/xmls/solar_272.xml  \n",
            " extracting: annotations/xmls/solar_275.xml  \n",
            " extracting: annotations/xmls/solar_278.xml  \n",
            " extracting: annotations/xmls/solar_279.xml  \n",
            " extracting: annotations/xmls/solar_28.xml  \n",
            " extracting: annotations/xmls/solar_280.xml  \n",
            " extracting: annotations/xmls/solar_281.xml  \n",
            " extracting: annotations/xmls/solar_282.xml  \n",
            " extracting: annotations/xmls/solar_283.xml  \n",
            " extracting: annotations/xmls/solar_284.xml  \n",
            " extracting: annotations/xmls/solar_285.xml  \n",
            " extracting: annotations/xmls/solar_3.xml  \n",
            " extracting: annotations/xmls/solar_31.xml  \n",
            " extracting: annotations/xmls/solar_33.xml  \n",
            " extracting: annotations/xmls/solar_34.xml  \n",
            " extracting: annotations/xmls/solar_35.xml  \n",
            " extracting: annotations/xmls/solar_36.xml  \n",
            " extracting: annotations/xmls/solar_37.xml  \n",
            " extracting: annotations/xmls/solar_38.xml  \n",
            " extracting: annotations/xmls/solar_39.xml  \n",
            " extracting: annotations/xmls/solar_4.xml  \n",
            " extracting: annotations/xmls/solar_40.xml  \n",
            " extracting: annotations/xmls/solar_41.xml  \n",
            " extracting: annotations/xmls/solar_43.xml  \n",
            " extracting: annotations/xmls/solar_44.xml  \n",
            " extracting: annotations/xmls/solar_45.xml  \n",
            " extracting: annotations/xmls/solar_47.xml  \n",
            " extracting: annotations/xmls/solar_48.xml  \n",
            " extracting: annotations/xmls/solar_49.xml  \n",
            " extracting: annotations/xmls/solar_50.xml  \n",
            " extracting: annotations/xmls/solar_51.xml  \n",
            " extracting: annotations/xmls/solar_52.xml  \n",
            " extracting: annotations/xmls/solar_53.xml  \n",
            " extracting: annotations/xmls/solar_54.xml  \n",
            " extracting: annotations/xmls/solar_55.xml  \n",
            " extracting: annotations/xmls/solar_56.xml  \n",
            " extracting: annotations/xmls/solar_57.xml  \n",
            " extracting: annotations/xmls/solar_58.xml  \n",
            " extracting: annotations/xmls/solar_59.xml  \n",
            " extracting: annotations/xmls/solar_6.xml  \n",
            " extracting: annotations/xmls/solar_60.xml  \n",
            " extracting: annotations/xmls/solar_61.xml  \n",
            " extracting: annotations/xmls/solar_62.xml  \n",
            " extracting: annotations/xmls/solar_63.xml  \n",
            " extracting: annotations/xmls/solar_66.xml  \n",
            " extracting: annotations/xmls/solar_67.xml  \n",
            " extracting: annotations/xmls/solar_68.xml  \n",
            " extracting: annotations/xmls/solar_69.xml  \n",
            " extracting: annotations/xmls/solar_7.xml  \n",
            " extracting: annotations/xmls/solar_70.xml  \n",
            " extracting: annotations/xmls/solar_71.xml  \n",
            " extracting: annotations/xmls/solar_73.xml  \n",
            " extracting: annotations/xmls/solar_75.xml  \n",
            " extracting: annotations/xmls/solar_76.xml  \n",
            " extracting: annotations/xmls/solar_77.xml  \n",
            " extracting: annotations/xmls/solar_78.xml  \n",
            " extracting: annotations/xmls/solar_79.xml  \n",
            " extracting: annotations/xmls/solar_8.xml  \n",
            " extracting: annotations/xmls/solar_80.xml  \n",
            " extracting: annotations/xmls/solar_81.xml  \n",
            " extracting: annotations/xmls/solar_82.xml  \n",
            " extracting: annotations/xmls/solar_84.xml  \n",
            " extracting: annotations/xmls/solar_85.xml  \n",
            " extracting: annotations/xmls/solar_86.xml  \n",
            " extracting: annotations/xmls/solar_88.xml  \n",
            " extracting: annotations/xmls/solar_89.xml  \n",
            " extracting: annotations/xmls/solar_9.xml  \n",
            " extracting: annotations/xmls/solar_91.xml  \n",
            " extracting: annotations/xmls/solar_93.xml  \n",
            " extracting: annotations/xmls/solar_95.xml  \n",
            " extracting: annotations/xmls/solar_96.xml  \n",
            " extracting: annotations/xmls/solar_97.xml  \n",
            " extracting: annotations/xmls/solar_98.xml  \n",
            " extracting: annotations/xmls/solar_99.xml  \n",
            "   creating: images/\n",
            " extracting: images/solar_10.JPG     \n",
            " extracting: images/solar_100.JPG    \n",
            " extracting: images/solar_101.JPG    \n",
            " extracting: images/solar_103.JPG    \n",
            " extracting: images/solar_104.JPG    \n",
            " extracting: images/solar_105.JPG    \n",
            " extracting: images/solar_106.JPG    \n",
            " extracting: images/solar_107.JPG    \n",
            " extracting: images/solar_108.JPG    \n",
            " extracting: images/solar_11.JPG     \n",
            " extracting: images/solar_110.JPG    \n",
            " extracting: images/solar_112.JPG    \n",
            " extracting: images/solar_113.JPG    \n",
            " extracting: images/solar_115.JPG    \n",
            " extracting: images/solar_116.JPG    \n",
            " extracting: images/solar_117.JPG    \n",
            " extracting: images/solar_118.JPG    \n",
            " extracting: images/solar_119.JPG    \n",
            " extracting: images/solar_12.JPG     \n",
            " extracting: images/solar_120.JPG    \n",
            " extracting: images/solar_121.JPG    \n",
            " extracting: images/solar_122.JPG    \n",
            " extracting: images/solar_123.JPG    \n",
            " extracting: images/solar_124.JPG    \n",
            " extracting: images/solar_125.JPG    \n",
            " extracting: images/solar_128.JPG    \n",
            " extracting: images/solar_130.JPG    \n",
            " extracting: images/solar_132.JPG    \n",
            " extracting: images/solar_133.JPG    \n",
            " extracting: images/solar_134.JPG    \n",
            " extracting: images/solar_136.JPG    \n",
            " extracting: images/solar_139.JPG    \n",
            " extracting: images/solar_14.JPG     \n",
            " extracting: images/solar_140.JPG    \n",
            " extracting: images/solar_141.JPG    \n",
            " extracting: images/solar_142.JPG    \n",
            " extracting: images/solar_144.JPG    \n",
            " extracting: images/solar_145.JPG    \n",
            " extracting: images/solar_146.JPG    \n",
            " extracting: images/solar_150.JPG    \n",
            " extracting: images/solar_151.JPG    \n",
            " extracting: images/solar_152.JPG    \n",
            " extracting: images/solar_153.JPG    \n",
            " extracting: images/solar_154.JPG    \n",
            " extracting: images/solar_155.JPG    \n",
            " extracting: images/solar_156.JPG    \n",
            " extracting: images/solar_157.JPG    \n",
            " extracting: images/solar_158.JPG    \n",
            " extracting: images/solar_159.JPG    \n",
            " extracting: images/solar_16.JPG     \n",
            " extracting: images/solar_160.JPG    \n",
            " extracting: images/solar_161.JPG    \n",
            " extracting: images/solar_162.JPG    \n",
            " extracting: images/solar_163.JPG    \n",
            " extracting: images/solar_164.JPG    \n",
            " extracting: images/solar_165.JPG    \n",
            " extracting: images/solar_167.JPG    \n",
            " extracting: images/solar_168.JPG    \n",
            " extracting: images/solar_17.JPG     \n",
            " extracting: images/solar_171.JPG    \n",
            " extracting: images/solar_172.JPG    \n",
            " extracting: images/solar_173.JPG    \n",
            " extracting: images/solar_174.JPG    \n",
            " extracting: images/solar_176.JPG    \n",
            " extracting: images/solar_177.JPG    \n",
            " extracting: images/solar_178.JPG    \n",
            " extracting: images/solar_179.JPG    \n",
            " extracting: images/solar_18.JPG     \n",
            " extracting: images/solar_180.JPG    \n",
            " extracting: images/solar_181.JPG    \n",
            " extracting: images/solar_182.JPG    \n",
            " extracting: images/solar_183.JPG    \n",
            " extracting: images/solar_185.JPG    \n",
            " extracting: images/solar_186.JPG    \n",
            " extracting: images/solar_188.JPG    \n",
            " extracting: images/solar_19.JPG     \n",
            " extracting: images/solar_190.JPG    \n",
            " extracting: images/solar_191.JPG    \n",
            " extracting: images/solar_193.JPG    \n",
            " extracting: images/solar_195.JPG    \n",
            " extracting: images/solar_196.JPG    \n",
            " extracting: images/solar_197.JPG    \n",
            " extracting: images/solar_198.JPG    \n",
            " extracting: images/solar_199.JPG    \n",
            " extracting: images/solar_2.JPG      \n",
            " extracting: images/solar_20.JPG     \n",
            " extracting: images/solar_200.JPG    \n",
            " extracting: images/solar_201.JPG    \n",
            " extracting: images/solar_202.JPG    \n",
            " extracting: images/solar_204.JPG    \n",
            " extracting: images/solar_205.JPG    \n",
            " extracting: images/solar_206.JPG    \n",
            " extracting: images/solar_207.JPG    \n",
            " extracting: images/solar_209.JPG    \n",
            " extracting: images/solar_21.JPG     \n",
            " extracting: images/solar_210.JPG    \n",
            " extracting: images/solar_211.JPG    \n",
            " extracting: images/solar_214.JPG    \n",
            " extracting: images/solar_215.JPG    \n",
            " extracting: images/solar_217.JPG    \n",
            " extracting: images/solar_219.JPG    \n",
            " extracting: images/solar_22.JPG     \n",
            " extracting: images/solar_220.JPG    \n",
            " extracting: images/solar_221.JPG    \n",
            " extracting: images/solar_224.JPG    \n",
            " extracting: images/solar_227.JPG    \n",
            " extracting: images/solar_228.JPG    \n",
            " extracting: images/solar_229.JPG    \n",
            " extracting: images/solar_230.JPG    \n",
            " extracting: images/solar_235.JPG    \n",
            " extracting: images/solar_236.JPG    \n",
            " extracting: images/solar_239.JPG    \n",
            " extracting: images/solar_24.JPG     \n",
            " extracting: images/solar_240.JPG    \n",
            " extracting: images/solar_241.JPG    \n",
            " extracting: images/solar_243.JPG    \n",
            " extracting: images/solar_244.JPG    \n",
            " extracting: images/solar_245.JPG    \n",
            " extracting: images/solar_247.JPG    \n",
            " extracting: images/solar_248.JPG    \n",
            " extracting: images/solar_249.JPG    \n",
            " extracting: images/solar_25.JPG     \n",
            " extracting: images/solar_252.JPG    \n",
            " extracting: images/solar_253.JPG    \n",
            " extracting: images/solar_254.JPG    \n",
            " extracting: images/solar_257.JPG    \n",
            " extracting: images/solar_258.JPG    \n",
            " extracting: images/solar_26.JPG     \n",
            " extracting: images/solar_261.JPG    \n",
            " extracting: images/solar_263.JPG    \n",
            " extracting: images/solar_264.JPG    \n",
            " extracting: images/solar_265.JPG    \n",
            " extracting: images/solar_266.JPG    \n",
            " extracting: images/solar_268.JPG    \n",
            " extracting: images/solar_269.JPG    \n",
            " extracting: images/solar_27.JPG     \n",
            " extracting: images/solar_270.JPG    \n",
            " extracting: images/solar_271.JPG    \n",
            " extracting: images/solar_272.JPG    \n",
            " extracting: images/solar_275.JPG    \n",
            " extracting: images/solar_278.JPG    \n",
            " extracting: images/solar_279.JPG    \n",
            " extracting: images/solar_28.JPG     \n",
            " extracting: images/solar_280.JPG    \n",
            " extracting: images/solar_281.JPG    \n",
            " extracting: images/solar_282.JPG    \n",
            " extracting: images/solar_283.JPG    \n",
            " extracting: images/solar_284.JPG    \n",
            " extracting: images/solar_285.JPG    \n",
            " extracting: images/solar_3.JPG      \n",
            " extracting: images/solar_31.JPG     \n",
            " extracting: images/solar_33.JPG     \n",
            " extracting: images/solar_34.JPG     \n",
            " extracting: images/solar_35.JPG     \n",
            " extracting: images/solar_36.JPG     \n",
            " extracting: images/solar_37.JPG     \n",
            " extracting: images/solar_38.JPG     \n",
            " extracting: images/solar_39.JPG     \n",
            " extracting: images/solar_4.JPG      \n",
            " extracting: images/solar_40.JPG     \n",
            " extracting: images/solar_41.JPG     \n",
            " extracting: images/solar_43.JPG     \n",
            " extracting: images/solar_44.JPG     \n",
            " extracting: images/solar_45.JPG     \n",
            " extracting: images/solar_47.JPG     \n",
            " extracting: images/solar_48.JPG     \n",
            " extracting: images/solar_49.JPG     \n",
            " extracting: images/solar_50.JPG     \n",
            " extracting: images/solar_51.JPG     \n",
            " extracting: images/solar_52.JPG     \n",
            " extracting: images/solar_53.JPG     \n",
            " extracting: images/solar_54.JPG     \n",
            " extracting: images/solar_55.JPG     \n",
            " extracting: images/solar_56.JPG     \n",
            " extracting: images/solar_57.JPG     \n",
            " extracting: images/solar_58.JPG     \n",
            " extracting: images/solar_59.JPG     \n",
            " extracting: images/solar_6.JPG      \n",
            " extracting: images/solar_60.JPG     \n",
            " extracting: images/solar_61.JPG     \n",
            " extracting: images/solar_62.JPG     \n",
            " extracting: images/solar_63.JPG     \n",
            " extracting: images/solar_66.JPG     \n",
            " extracting: images/solar_67.JPG     \n",
            " extracting: images/solar_68.JPG     \n",
            " extracting: images/solar_69.JPG     \n",
            " extracting: images/solar_7.JPG      \n",
            " extracting: images/solar_70.JPG     \n",
            " extracting: images/solar_71.JPG     \n",
            " extracting: images/solar_73.JPG     \n",
            " extracting: images/solar_75.JPG     \n",
            " extracting: images/solar_76.JPG     \n",
            " extracting: images/solar_77.JPG     \n",
            " extracting: images/solar_78.JPG     \n",
            " extracting: images/solar_79.JPG     \n",
            " extracting: images/solar_8.JPG      \n",
            " extracting: images/solar_80.JPG     \n",
            " extracting: images/solar_81.JPG     \n",
            " extracting: images/solar_82.JPG     \n",
            " extracting: images/solar_84.JPG     \n",
            " extracting: images/solar_85.JPG     \n",
            " extracting: images/solar_86.JPG     \n",
            " extracting: images/solar_88.JPG     \n",
            " extracting: images/solar_89.JPG     \n",
            " extracting: images/solar_9.JPG      \n",
            " extracting: images/solar_91.JPG     \n",
            " extracting: images/solar_93.JPG     \n",
            " extracting: images/solar_95.JPG     \n",
            " extracting: images/solar_96.JPG     \n",
            " extracting: images/solar_97.JPG     \n",
            " extracting: images/solar_98.JPG     \n",
            " extracting: images/solar_99.JPG     \n",
            "   creating: testsamples/\n",
            " extracting: testsamples/image1.JPG  \n",
            " extracting: testsamples/image2.JPG  \n",
            " extracting: testsamples/image3.JPG  \n"
          ]
        }
      ],
      "source": [
        "%cd /datalab\n",
        "!unzip solar.zip #Scroll through the unzip output to get an idea of the datalab folder content."
      ]
    },
    {
      "cell_type": "markdown",
      "metadata": {
        "id": "7LMyNhmeS-Yc"
      },
      "source": [
        "You can download one of the XML files to check the structure of the PASCAL VOC Annotation format.\n",
        "Here is an example:\n",
        "\n",
        "\n",
        "\n",
        "```\n",
        "<annotation>\n",
        "\t<folder>sol2</folder>\n",
        "\t<filename>solar_10.JPG</filename>\n",
        "\t<path>C:\\temp\\sol2\\solar_10.JPG</path>\n",
        "\t<source>\n",
        "\t\t<database>Unknown</database>\n",
        "\t</source>\n",
        "\t<size>\n",
        "\t\t<width>901</width>\n",
        "\t\t<height>791</height>\n",
        "\t\t<depth>3</depth>\n",
        "\t</size>\n",
        "\t<segmented>0</segmented>\n",
        "\t<object>\n",
        "\t\t<name>solar</name>\n",
        "\t\t<pose>Unspecified</pose>\n",
        "\t\t<truncated>1</truncated>\n",
        "\t\t<difficult>0</difficult>\n",
        "\t\t<bndbox>\n",
        "\t\t\t<xmin>637</xmin>\n",
        "\t\t\t<ymin>152</ymin>\n",
        "\t\t\t<xmax>901</xmax>\n",
        "\t\t\t<ymax>591</ymax>\n",
        "\t\t</bndbox>\n",
        "\t</object>\n",
        "</annotation>\n",
        "\n",
        "```\n",
        "\n"
      ]
    },
    {
      "cell_type": "markdown",
      "metadata": {
        "id": "osh2Ty-vTejr"
      },
      "source": [
        "We need to write our label name (in this case \"solar\") into a config file defining all detectable classes.\n",
        "In our case it is just on class.\n",
        "\n",
        "Then we iterate through all image files to extract the file names (paths are not relevant) we want to use for training and validation."
      ]
    },
    {
      "cell_type": "code",
      "execution_count": 10,
      "metadata": {
        "colab": {
          "base_uri": "https://localhost:8080/"
        },
        "id": "6f41p5Nb1Uhl",
        "outputId": "9e0a9f70-d7cb-4f87-f0fe-ea0775303517"
      },
      "outputs": [
        {
          "output_type": "stream",
          "name": "stdout",
          "text": [
            "/\n",
            "/datalab\n"
          ]
        }
      ],
      "source": [
        "%cd ..\n",
        "%cd /datalab\n",
        "\n",
        "!echo \"item { id: 1 name: 'solar'}\" > label_map.pbtxt\n",
        "\n",
        "image_files=os.listdir('images')\n",
        "im_files=[x.split('.')[0] for x in image_files]\n",
        "with open('annotations/trainval.txt', 'w') as text_file:\n",
        "  for row in im_files:\n",
        "    text_file.write(row + '\\n')"
      ]
    },
    {
      "cell_type": "markdown",
      "metadata": {
        "id": "jiE8dMrBMGTG"
      },
      "source": [
        "#Data and Model Preparation\n",
        "## Generate Bounding Boxes on Images for RPN Network Training\n",
        "The same process need to be performed with the XML Annotation files.\n",
        "Additionally, we convert the images to PNG format for easier access."
      ]
    },
    {
      "cell_type": "code",
      "execution_count": 11,
      "metadata": {
        "colab": {
          "base_uri": "https://localhost:8080/"
        },
        "id": "r38LiZJ11nJ2",
        "outputId": "ce51d3dc-3c16-484e-ed05-aee49246830e"
      },
      "outputs": [
        {
          "output_type": "stream",
          "name": "stdout",
          "text": [
            "/datalab/annotations\n"
          ]
        }
      ],
      "source": [
        "%cd /datalab/annotations\n",
        "\n",
        "!mkdir trimaps\n",
        "\n",
        "from PIL import Image\n",
        "image = Image.new('RGB', (901, 791))\n",
        "\n",
        "for filename in os.listdir('xmls'):\n",
        "  filename = os.path.splitext(filename)[0]\n",
        "  image.save('trimaps/' + filename + '.png')"
      ]
    },
    {
      "cell_type": "markdown",
      "metadata": {
        "id": "SlG7LCylMYB_"
      },
      "source": [
        "##Generate Labelled Tensor Matrices (tf_records)\n",
        "The Tensorflow Record files contain the actual input data for the Machine Learning process in binary format.\n",
        "An API specific script can do the job for us.\n",
        "We use the famous \"pet faces model\" in our transfer learning process.\n",
        "We need to split the dataset at this point into training and validation data.\n",
        "70% of our data (148 of 212 images) will be used for training, the remaining 30% for validation (64 images)"
      ]
    },
    {
      "cell_type": "code",
      "execution_count": 12,
      "metadata": {
        "colab": {
          "base_uri": "https://localhost:8080/"
        },
        "id": "XhwFAOny2OLc",
        "outputId": "f1001e06-90d2-4467-a102-7faabc6d7f48"
      },
      "outputs": [
        {
          "output_type": "stream",
          "name": "stdout",
          "text": [
            "/datalab\n",
            "Traceback (most recent call last):\n",
            "  File \"/root/models/research/object_detection/dataset_tools/create_pet_tf_record.py\", line 42, in <module>\n",
            "    from object_detection.dataset_tools import tf_record_creation_util\n",
            "ModuleNotFoundError: No module named 'object_detection'\n",
            "mv: cannot stat 'pet_faces_train.record-00000-of-00001': No such file or directory\n",
            "mv: cannot stat 'pet_faces_val.record-00000-of-00001': No such file or directory\n"
          ]
        }
      ],
      "source": [
        "%cd /datalab\n",
        "\n",
        "!python ~/models/research/object_detection/dataset_tools/create_pet_tf_record.py --label_map_path=label_map.pbtxt --data_dir=. --output_dir=. --num_shards=1\n",
        "\n",
        "!mv pet_faces_train.record-00000-of-00001 tf_train.record\n",
        "\n",
        "!mv pet_faces_val.record-00000-of-00001 tf_val.record"
      ]
    },
    {
      "cell_type": "markdown",
      "metadata": {
        "id": "k0CoGNKoMiCr"
      },
      "source": [
        "##Download the Model Checkpoint you want to use for Transfer Learning\n",
        "Many different COCO pretrained neural models can be used for bounding box related object detection with Tensorflow.\n",
        "They all have different advantages or disadvantages (e.g. inferencing speed, accuracy, easy to train, etc.).\n",
        "\n",
        "An overview can be found with the [TF Model Zoo](https://github.com/tensorflow/models/blob/master/research/object_detection/g3doc/detection_model_zoo.md).\n",
        "\n"
      ]
    },
    {
      "cell_type": "code",
      "execution_count": 13,
      "metadata": {
        "colab": {
          "base_uri": "https://localhost:8080/"
        },
        "id": "2Sj2b08bHfmZ",
        "outputId": "cb790d2b-6a18-45bc-bba2-8accc294c5b2"
      },
      "outputs": [
        {
          "output_type": "stream",
          "name": "stdout",
          "text": [
            "/datalab\n",
            "--2022-05-13 00:19:44--  http://download.tensorflow.org/models/object_detection/faster_rcnn_inception_v2_coco_2018_01_28.tar.gz\n",
            "Resolving download.tensorflow.org (download.tensorflow.org)... 172.253.122.128, 2607:f8b0:4004:c09::80\n",
            "Connecting to download.tensorflow.org (download.tensorflow.org)|172.253.122.128|:80... connected.\n",
            "HTTP request sent, awaiting response... 200 OK\n",
            "Length: 149119618 (142M) [application/x-tar]\n",
            "Saving to: ‘faster_rcnn_inception_v2_coco_2018_01_28.tar.gz’\n",
            "\n",
            "faster_rcnn_incepti 100%[===================>] 142.21M   169MB/s    in 0.8s    \n",
            "\n",
            "2022-05-13 00:19:45 (169 MB/s) - ‘faster_rcnn_inception_v2_coco_2018_01_28.tar.gz’ saved [149119618/149119618]\n",
            "\n",
            "/datalab\n",
            "faster_rcnn_inception_v2_coco_2018_01_28/\n",
            "faster_rcnn_inception_v2_coco_2018_01_28/model.ckpt.index\n",
            "faster_rcnn_inception_v2_coco_2018_01_28/checkpoint\n",
            "faster_rcnn_inception_v2_coco_2018_01_28/pipeline.config\n",
            "faster_rcnn_inception_v2_coco_2018_01_28/model.ckpt.data-00000-of-00001\n",
            "faster_rcnn_inception_v2_coco_2018_01_28/model.ckpt.meta\n",
            "faster_rcnn_inception_v2_coco_2018_01_28/saved_model/\n",
            "faster_rcnn_inception_v2_coco_2018_01_28/saved_model/saved_model.pb\n",
            "faster_rcnn_inception_v2_coco_2018_01_28/saved_model/variables/\n",
            "faster_rcnn_inception_v2_coco_2018_01_28/frozen_inference_graph.pb\n",
            "/datalab\n"
          ]
        }
      ],
      "source": [
        "%cd /datalab\n",
        "!wget http://download.tensorflow.org/models/object_detection/faster_rcnn_inception_v2_coco_2018_01_28.tar.gz\n",
        "  \n",
        "%cd /datalab\n",
        "!tar -xvzf faster_rcnn_inception_v2_coco_2018_01_28.tar.gz\n",
        "\n",
        "%cd /datalab\n",
        "!mv faster_rcnn_inception_v2_coco_2018_01_28 pretrained_model"
      ]
    },
    {
      "cell_type": "markdown",
      "metadata": {
        "id": "qyk6YNdBMq8A"
      },
      "source": [
        "##Configure the Paths and Training Parameters\n",
        "This specifies which files and model checkpoints should be used for the trainings process."
      ]
    },
    {
      "cell_type": "code",
      "execution_count": 14,
      "metadata": {
        "colab": {
          "base_uri": "https://localhost:8080/"
        },
        "id": "GkNT0AWT6Q9K",
        "outputId": "3a67a3b0-0863-48cd-a078-c4b9d14082bc"
      },
      "outputs": [
        {
          "output_type": "stream",
          "name": "stdout",
          "text": [
            "/datalab\n"
          ]
        }
      ],
      "source": [
        "%cd /datalab\n",
        "\n",
        "import re\n",
        "\n",
        "#filename = '/datalab/pretrained_model/pipeline.config'\n",
        "filename = '/root/models/research/object_detection/samples/configs/faster_rcnn_inception_v2_pets.config'\n",
        "with open(filename) as f:\n",
        "  s = f.read()\n",
        "with open(filename, 'w') as f:\n",
        "  s = re.sub('PATH_TO_BE_CONFIGURED/model.ckpt', '/datalab/pretrained_model/model.ckpt', s)\n",
        "  s = re.sub('PATH_TO_BE_CONFIGURED/pet_faces_train.record-\\?\\?\\?\\?\\?-of-00010', '/datalab/tf_train.record', s)\n",
        "  s = re.sub('PATH_TO_BE_CONFIGURED/pet_faces_val.record-\\?\\?\\?\\?\\?-of-00010', '/datalab/tf_val.record', s)\n",
        "  s = re.sub('PATH_TO_BE_CONFIGURED/pet_label_map.pbtxt', '/datalab/label_map.pbtxt', s)\n",
        "  f.write(s)"
      ]
    },
    {
      "cell_type": "markdown",
      "metadata": {
        "id": "aiJ6kHszMyeJ"
      },
      "source": [
        "# Training on GPU\n",
        "The execution of this snippet might take a while. Normally the training of 3000 steps should take about 10 minutes (approx. 12 seconds for 100 steps). \n",
        "\n",
        "As a rough estimate, the loss value of Faster RCNN models should fall below 0.05 over a few thousand steps and then the training can be aborted. \n",
        "\n",
        "We configure automatic termination after 3'000 Steps, in productive trainings as much as 100'000-200'000 Steps can be neccesary.\n",
        "\n",
        "![alt text](https://cdn-images-1.medium.com/max/800/1*qGb5XNny5G8PrGQ5sejFvw.png)\n",
        "\n",
        "This graph shows the expected training progess of the model with the supervision tool \"Tensorboard\"."
      ]
    },
    {
      "cell_type": "code",
      "execution_count": 15,
      "metadata": {
        "colab": {
          "base_uri": "https://localhost:8080/"
        },
        "id": "jvGQxjNI6QNr",
        "outputId": "76143f4f-ae7f-46c7-f283-b3253250f50f"
      },
      "outputs": [
        {
          "output_type": "stream",
          "name": "stdout",
          "text": [
            "/datalab\n",
            "Traceback (most recent call last):\n",
            "  File \"/root/models/research/object_detection/model_main.py\", line 26, in <module>\n",
            "    from object_detection import model_lib\n",
            "ModuleNotFoundError: No module named 'object_detection'\n"
          ]
        }
      ],
      "source": [
        "%cd /datalab\n",
        "\n",
        "%cp -R /datalab /content\n",
        "\n",
        "!python ~/models/research/object_detection/model_main.py \\\n",
        "    --pipeline_config_path=/root/models/research/object_detection/samples/configs/faster_rcnn_inception_v2_pets.config \\\n",
        "    --model_dir=/datalab/trained \\\n",
        "    --train_dir=/datalab/trained \\\n",
        "    --logtostderr \\\n",
        "    --logdir=/datalab/trained \\\n",
        "    --num_train_steps=3000 \\\n",
        "    --num_eval_steps=500 \\\n",
        "    --max_evals=0 "
      ]
    },
    {
      "cell_type": "markdown",
      "metadata": {
        "id": "j6aIMnXJOm49"
      },
      "source": [
        "# Export Inference Graph\n",
        "Inferencing means to apply the model to images which haven't been used for training.\n",
        "\n",
        "We reserved a few images to check if our model performs correctly.\n",
        "\n",
        "The frozen Inference Graph gets generated from the last model checkpoint and contains all elements of the model neccesary to perform inference (also on weaker hardware), but it cannot be used to continue training the model."
      ]
    },
    {
      "cell_type": "code",
      "execution_count": 32,
      "metadata": {
        "colab": {
          "base_uri": "https://localhost:8080/",
          "height": 325
        },
        "id": "dsjkGdgTDmbh",
        "outputId": "705a7ff0-5587-422e-8717-d6b3a13e88b3"
      },
      "outputs": [
        {
          "output_type": "stream",
          "name": "stdout",
          "text": [
            "/datalab\n"
          ]
        },
        {
          "output_type": "error",
          "ename": "IndexError",
          "evalue": "ignored",
          "traceback": [
            "\u001b[0;31m---------------------------------------------------------------------------\u001b[0m",
            "\u001b[0;31mIndexError\u001b[0m                                Traceback (most recent call last)",
            "\u001b[0;32m<ipython-input-32-22fc753ff532>\u001b[0m in \u001b[0;36m<module>\u001b[0;34m()\u001b[0m\n\u001b[1;32m      3\u001b[0m \u001b[0mlst\u001b[0m \u001b[0;34m=\u001b[0m \u001b[0mos\u001b[0m\u001b[0;34m.\u001b[0m\u001b[0mlistdir\u001b[0m\u001b[0;34m(\u001b[0m\u001b[0;34m'/content/datalab/trained'\u001b[0m\u001b[0;34m)\u001b[0m\u001b[0;34m\u001b[0m\u001b[0;34m\u001b[0m\u001b[0m\n\u001b[1;32m      4\u001b[0m \u001b[0mlf\u001b[0m \u001b[0;34m=\u001b[0m \u001b[0mfilter\u001b[0m\u001b[0;34m(\u001b[0m\u001b[0;32mlambda\u001b[0m \u001b[0mk\u001b[0m\u001b[0;34m:\u001b[0m \u001b[0;34m'model.ckpt-'\u001b[0m \u001b[0;32min\u001b[0m \u001b[0mk\u001b[0m\u001b[0;34m,\u001b[0m \u001b[0mlst\u001b[0m\u001b[0;34m)\u001b[0m\u001b[0;34m\u001b[0m\u001b[0;34m\u001b[0m\u001b[0m\n\u001b[0;32m----> 5\u001b[0;31m \u001b[0mlast_model\u001b[0m \u001b[0;34m=\u001b[0m \u001b[0msorted\u001b[0m\u001b[0;34m(\u001b[0m\u001b[0mlf\u001b[0m\u001b[0;34m)\u001b[0m\u001b[0;34m[\u001b[0m\u001b[0;34m-\u001b[0m\u001b[0;36m1\u001b[0m\u001b[0;34m]\u001b[0m\u001b[0;34m.\u001b[0m\u001b[0mreplace\u001b[0m\u001b[0;34m(\u001b[0m\u001b[0;34m'.meta'\u001b[0m\u001b[0;34m,\u001b[0m \u001b[0;34m''\u001b[0m\u001b[0;34m)\u001b[0m\u001b[0;34m\u001b[0m\u001b[0;34m\u001b[0m\u001b[0m\n\u001b[0m\u001b[1;32m      6\u001b[0m \u001b[0;34m\u001b[0m\u001b[0m\n\u001b[1;32m      7\u001b[0m \u001b[0mget_ipython\u001b[0m\u001b[0;34m(\u001b[0m\u001b[0;34m)\u001b[0m\u001b[0;34m.\u001b[0m\u001b[0msystem\u001b[0m\u001b[0;34m(\u001b[0m\u001b[0;34m'python ~/models/research/object_detection/export_inference_graph.py     --input_type=image_tensor     --pipeline_config_path=/root/models/research/object_detection/samples/configs/faster_rcnn_inception_v2_pets.config     --output_directory=fine_tuned_model     --trained_checkpoint_prefix=trained/$last_model'\u001b[0m\u001b[0;34m)\u001b[0m\u001b[0;34m\u001b[0m\u001b[0;34m\u001b[0m\u001b[0m\n",
            "\u001b[0;31mIndexError\u001b[0m: list index out of range"
          ]
        }
      ],
      "source": [
        "%cd /datalab\n",
        "\n",
        "lst = os.listdir('/content/datalab/trained')\n",
        "lf = filter(lambda k: 'model.ckpt-' in k, lst)\n",
        "last_model = sorted(lf)[-1].replace('.meta', '')\n",
        "\n",
        "!python ~/models/research/object_detection/export_inference_graph.py \\\n",
        "    --input_type=image_tensor \\\n",
        "    --pipeline_config_path=/root/models/research/object_detection/samples/configs/faster_rcnn_inception_v2_pets.config \\\n",
        "    --output_directory=fine_tuned_model \\\n",
        "    --trained_checkpoint_prefix=trained/$last_model"
      ]
    },
    {
      "cell_type": "markdown",
      "metadata": {
        "id": "gQub8i2wareJ"
      },
      "source": [
        "##Alternative: Import a Finished Inference Graph\n",
        "Uncomment this section, if you want to download a finished inference graph if you could not finish the training."
      ]
    },
    {
      "cell_type": "code",
      "execution_count": null,
      "metadata": {
        "id": "O9Emd73ISTk9"
      },
      "outputs": [],
      "source": [
        "#Alternative to training, you can download a fully trained model inference graph by uncommenting (#) the following lines\n",
        "\n",
        "#%cd /datalab\n",
        "#!wget http://2019.geopython.net/data/trained.tar.gz\n",
        "#%cd /datalab\n",
        "#!tar -xzf trained.tar.gz"
      ]
    },
    {
      "cell_type": "markdown",
      "metadata": {
        "id": "nqAjy3fpOzlZ"
      },
      "source": [
        "# Run Inference"
      ]
    },
    {
      "cell_type": "code",
      "execution_count": null,
      "metadata": {
        "id": "4tO_OCUXEvjr"
      },
      "outputs": [],
      "source": [
        "%cd /root/models/research/object_detection\n",
        "\n",
        "\n",
        "\n",
        "\n",
        "import numpy as np\n",
        "import os\n",
        "import six.moves.urllib as urllib\n",
        "import sys\n",
        "import tarfile\n",
        "import tensorflow as tf\n",
        "import zipfile\n",
        "\n",
        "from collections import defaultdict\n",
        "from io import StringIO\n",
        "from matplotlib import pyplot as plt\n",
        "from PIL import Image\n",
        "\n",
        "# This is needed since the notebook is stored in the object_detection folder.\n",
        "sys.path.append(\"..\")\n",
        "from object_detection.utils import ops as utils_ops\n",
        "\n",
        "#if tf.__version__ < '1.4.0':\n",
        "#  raise ImportError('Please upgrade your tensorflow installation to v1.4.* or later!')\n",
        "  \n",
        "\n",
        "  \n",
        "  \n",
        "# This is needed to display the images.\n",
        "%matplotlib inline\n",
        "\n",
        "\n",
        "\n",
        "\n",
        "from utils import label_map_util\n",
        "\n",
        "from utils import visualization_utils as vis_util\n",
        "\n",
        "\n",
        "\n",
        "\n",
        "# What model to download.\n",
        "# Path to frozen detection graph. This is the actual model that is used for the object detection.\n",
        "PATH_TO_CKPT = '/datalab/fine_tuned_model' + '/frozen_inference_graph.pb'\n",
        "\n",
        "# List of the strings that is used to add correct label for each box.\n",
        "PATH_TO_LABELS = os.path.join('/content/datalab', 'label_map.pbtxt')\n",
        "\n",
        "NUM_CLASSES = 37\n",
        "\n",
        "\n",
        "\n",
        "\n",
        "detection_graph = tf.Graph()\n",
        "with detection_graph.as_default():\n",
        "  od_graph_def = tf.GraphDef()\n",
        "  with tf.gfile.GFile(PATH_TO_CKPT, 'rb') as fid:\n",
        "    serialized_graph = fid.read()\n",
        "    od_graph_def.ParseFromString(serialized_graph)\n",
        "    tf.import_graph_def(od_graph_def, name='')\n",
        "    \n",
        "    \n",
        "    \n",
        "    \n",
        "label_map = label_map_util.load_labelmap(PATH_TO_LABELS)\n",
        "categories = label_map_util.convert_label_map_to_categories(label_map, max_num_classes=NUM_CLASSES, use_display_name=True)\n",
        "category_index = label_map_util.create_category_index(categories)\n",
        "\n",
        "\n",
        "\n",
        "\n",
        "def load_image_into_numpy_array(image):\n",
        "  (im_width, im_height) = image.size\n",
        "  return np.array(image.getdata()).reshape(\n",
        "      (im_height, im_width, 3)).astype(np.uint8)\n",
        "\n",
        "\n",
        "\n",
        "\n",
        "# If you want to test the code with your images, just add path to the images to the TEST_IMAGE_PATHS.\n",
        "PATH_TO_TEST_IMAGES_DIR = '/datalab/testsamples/'\n",
        "TEST_IMAGE_PATHS = [ os.path.join(PATH_TO_TEST_IMAGES_DIR, 'image{}.JPG'.format(i)) for i in range(1, 4) ]\n",
        "\n",
        "# Size, in inches, of the output images.\n",
        "IMAGE_SIZE = (12, 8)\n",
        "\n",
        "\n",
        "\n",
        "\n",
        "def run_inference_for_single_image(image, graph):\n",
        "  with graph.as_default():\n",
        "    with tf.Session() as sess:\n",
        "      # Get handles to input and output tensors\n",
        "      ops = tf.get_default_graph().get_operations()\n",
        "      all_tensor_names = {output.name for op in ops for output in op.outputs}\n",
        "      tensor_dict = {}\n",
        "      for key in [\n",
        "          'num_detections', 'detection_boxes', 'detection_scores',\n",
        "          'detection_classes', 'detection_masks'\n",
        "      ]:\n",
        "        tensor_name = key + ':0'\n",
        "        if tensor_name in all_tensor_names:\n",
        "          tensor_dict[key] = tf.get_default_graph().get_tensor_by_name(\n",
        "              tensor_name)\n",
        "      if 'detection_masks' in tensor_dict:\n",
        "        # The following processing is only for single image\n",
        "        detection_boxes = tf.squeeze(tensor_dict['detection_boxes'], [0])\n",
        "        detection_masks = tf.squeeze(tensor_dict['detection_masks'], [0])\n",
        "        # Reframe is required to translate mask from box coordinates to image coordinates and fit the image size.\n",
        "        real_num_detection = tf.cast(tensor_dict['num_detections'][0], tf.int32)\n",
        "        detection_boxes = tf.slice(detection_boxes, [0, 0], [real_num_detection, -1])\n",
        "        detection_masks = tf.slice(detection_masks, [0, 0, 0], [real_num_detection, -1, -1])\n",
        "        detection_masks_reframed = utils_ops.reframe_box_masks_to_image_masks(\n",
        "            detection_masks, detection_boxes, image.shape[0], image.shape[1])\n",
        "        detection_masks_reframed = tf.cast(\n",
        "            tf.greater(detection_masks_reframed, 0.5), tf.uint8)\n",
        "        # Follow the convention by adding back the batch dimension\n",
        "        tensor_dict['detection_masks'] = tf.expand_dims(\n",
        "            detection_masks_reframed, 0)\n",
        "      image_tensor = tf.get_default_graph().get_tensor_by_name('image_tensor:0')\n",
        "\n",
        "      # Run inference\n",
        "      output_dict = sess.run(tensor_dict,\n",
        "                             feed_dict={image_tensor: np.expand_dims(image, 0)})\n",
        "\n",
        "      # all outputs are float32 numpy arrays, so convert types as appropriate\n",
        "      output_dict['num_detections'] = int(output_dict['num_detections'][0])\n",
        "      output_dict['detection_classes'] = output_dict[\n",
        "          'detection_classes'][0].astype(np.uint8)\n",
        "      output_dict['detection_boxes'] = output_dict['detection_boxes'][0]\n",
        "      output_dict['detection_scores'] = output_dict['detection_scores'][0]\n",
        "      if 'detection_masks' in output_dict:\n",
        "        output_dict['detection_masks'] = output_dict['detection_masks'][0]\n",
        "  return output_dict\n",
        "\n",
        "\n",
        "\n",
        "\n",
        "for image_path in TEST_IMAGE_PATHS:\n",
        "  image = Image.open(image_path)\n",
        "  # the array based representation of the image will be used later in order to prepare the\n",
        "  # result image with boxes and labels on it.\n",
        "  image_np = load_image_into_numpy_array(image)\n",
        "  # Expand dimensions since the model expects images to have shape: [1, None, None, 3]\n",
        "  image_np_expanded = np.expand_dims(image_np, axis=0)\n",
        "  # Actual detection.\n",
        "  output_dict = run_inference_for_single_image(image_np, detection_graph)\n",
        "  # Visualization of the results of a detection.\n",
        "  vis_util.visualize_boxes_and_labels_on_image_array(\n",
        "      image_np,\n",
        "      output_dict['detection_boxes'],\n",
        "      output_dict['detection_classes'],\n",
        "      output_dict['detection_scores'],\n",
        "      category_index,\n",
        "      instance_masks=output_dict.get('detection_masks'),\n",
        "      use_normalized_coordinates=True,\n",
        "      line_thickness=8)\n",
        "  plt.figure(figsize=IMAGE_SIZE)\n",
        "  plt.imshow(image_np)"
      ]
    },
    {
      "cell_type": "markdown",
      "metadata": {
        "id": "9cJTzq7If9lV"
      },
      "source": [
        "## Run Inference on Additional Samples"
      ]
    },
    {
      "cell_type": "code",
      "execution_count": null,
      "metadata": {
        "id": "5kOKL6IwbJwD"
      },
      "outputs": [],
      "source": [
        "%cd /root/models/research/object_detection\n",
        "\n",
        "\n",
        "\n",
        "\n",
        "import numpy as np\n",
        "import os\n",
        "import six.moves.urllib as urllib\n",
        "import sys\n",
        "import tarfile\n",
        "import tensorflow as tf\n",
        "import zipfile\n",
        "\n",
        "from collections import defaultdict\n",
        "from io import StringIO\n",
        "from matplotlib import pyplot as plt\n",
        "from PIL import Image\n",
        "\n",
        "# This is needed since the notebook is stored in the object_detection folder.\n",
        "sys.path.append(\"..\")\n",
        "from object_detection.utils import ops as utils_ops\n",
        "\n",
        "#if tf.__version__ < '1.4.0':\n",
        "#  raise ImportError('Please upgrade your tensorflow installation to v1.4.* or later!')\n",
        "  \n",
        "\n",
        "  \n",
        "  \n",
        "# This is needed to display the images.\n",
        "%matplotlib inline\n",
        "\n",
        "\n",
        "\n",
        "\n",
        "from utils import label_map_util\n",
        "\n",
        "from utils import visualization_utils as vis_util\n",
        "\n",
        "\n",
        "\n",
        "\n",
        "# What model to download.\n",
        "# Path to frozen detection graph. This is the actual model that is used for the object detection.\n",
        "PATH_TO_CKPT = '/datalab/fine_tuned_model' + '/frozen_inference_graph.pb'\n",
        "\n",
        "# List of the strings that is used to add correct label for each box.\n",
        "PATH_TO_LABELS = os.path.join('/content/datalab', 'label_map.pbtxt')\n",
        "\n",
        "NUM_CLASSES = 37\n",
        "\n",
        "\n",
        "\n",
        "\n",
        "detection_graph = tf.Graph()\n",
        "with detection_graph.as_default():\n",
        "  od_graph_def = tf.GraphDef()\n",
        "  with tf.gfile.GFile(PATH_TO_CKPT, 'rb') as fid:\n",
        "    serialized_graph = fid.read()\n",
        "    od_graph_def.ParseFromString(serialized_graph)\n",
        "    tf.import_graph_def(od_graph_def, name='')\n",
        "    \n",
        "    \n",
        "    \n",
        "    \n",
        "label_map = label_map_util.load_labelmap(PATH_TO_LABELS)\n",
        "categories = label_map_util.convert_label_map_to_categories(label_map, max_num_classes=NUM_CLASSES, use_display_name=True)\n",
        "category_index = label_map_util.create_category_index(categories)\n",
        "\n",
        "\n",
        "\n",
        "\n",
        "def load_image_into_numpy_array(image):\n",
        "  (im_width, im_height) = image.size\n",
        "  return np.array(image.getdata()).reshape(\n",
        "      (im_height, im_width, 3)).astype(np.uint8)\n",
        "\n",
        "\n",
        "\n",
        "\n",
        "# If you want to test the code with your images, just add path to the images to the TEST_IMAGE_PATHS.\n",
        "PATH_TO_TEST_IMAGES_DIR = '/datalab/images/'\n",
        "TEST_IMAGE_PATHS = [ os.path.join(PATH_TO_TEST_IMAGES_DIR, 'solar_{}.JPG'.format(i)) for i in range(150, 166) ]\n",
        "\n",
        "# Size, in inches, of the output images.\n",
        "IMAGE_SIZE = (12, 8)\n",
        "\n",
        "\n",
        "\n",
        "\n",
        "def run_inference_for_single_image(image, graph):\n",
        "  with graph.as_default():\n",
        "    with tf.Session() as sess:\n",
        "      # Get handles to input and output tensors\n",
        "      ops = tf.get_default_graph().get_operations()\n",
        "      all_tensor_names = {output.name for op in ops for output in op.outputs}\n",
        "      tensor_dict = {}\n",
        "      for key in [\n",
        "          'num_detections', 'detection_boxes', 'detection_scores',\n",
        "          'detection_classes', 'detection_masks'\n",
        "      ]:\n",
        "        tensor_name = key + ':0'\n",
        "        if tensor_name in all_tensor_names:\n",
        "          tensor_dict[key] = tf.get_default_graph().get_tensor_by_name(\n",
        "              tensor_name)\n",
        "      if 'detection_masks' in tensor_dict:\n",
        "        # The following processing is only for single image\n",
        "        detection_boxes = tf.squeeze(tensor_dict['detection_boxes'], [0])\n",
        "        detection_masks = tf.squeeze(tensor_dict['detection_masks'], [0])\n",
        "        # Reframe is required to translate mask from box coordinates to image coordinates and fit the image size.\n",
        "        real_num_detection = tf.cast(tensor_dict['num_detections'][0], tf.int32)\n",
        "        detection_boxes = tf.slice(detection_boxes, [0, 0], [real_num_detection, -1])\n",
        "        detection_masks = tf.slice(detection_masks, [0, 0, 0], [real_num_detection, -1, -1])\n",
        "        detection_masks_reframed = utils_ops.reframe_box_masks_to_image_masks(\n",
        "            detection_masks, detection_boxes, image.shape[0], image.shape[1])\n",
        "        detection_masks_reframed = tf.cast(\n",
        "            tf.greater(detection_masks_reframed, 0.5), tf.uint8)\n",
        "        # Follow the convention by adding back the batch dimension\n",
        "        tensor_dict['detection_masks'] = tf.expand_dims(\n",
        "            detection_masks_reframed, 0)\n",
        "      image_tensor = tf.get_default_graph().get_tensor_by_name('image_tensor:0')\n",
        "\n",
        "      # Run inference\n",
        "      output_dict = sess.run(tensor_dict,\n",
        "                             feed_dict={image_tensor: np.expand_dims(image, 0)})\n",
        "\n",
        "      # all outputs are float32 numpy arrays, so convert types as appropriate\n",
        "      output_dict['num_detections'] = int(output_dict['num_detections'][0])\n",
        "      output_dict['detection_classes'] = output_dict[\n",
        "          'detection_classes'][0].astype(np.uint8)\n",
        "      output_dict['detection_boxes'] = output_dict['detection_boxes'][0]\n",
        "      output_dict['detection_scores'] = output_dict['detection_scores'][0]\n",
        "      if 'detection_masks' in output_dict:\n",
        "        output_dict['detection_masks'] = output_dict['detection_masks'][0]\n",
        "  return output_dict\n",
        "\n",
        "\n",
        "\n",
        "\n",
        "for image_path in TEST_IMAGE_PATHS:\n",
        "  image = Image.open(image_path)\n",
        "  # the array based representation of the image will be used later in order to prepare the\n",
        "  # result image with boxes and labels on it.\n",
        "  image_np = load_image_into_numpy_array(image)\n",
        "  # Expand dimensions since the model expects images to have shape: [1, None, None, 3]\n",
        "  image_np_expanded = np.expand_dims(image_np, axis=0)\n",
        "  # Actual detection.\n",
        "  output_dict = run_inference_for_single_image(image_np, detection_graph)\n",
        "  # Visualization of the results of a detection.\n",
        "  vis_util.visualize_boxes_and_labels_on_image_array(\n",
        "      image_np,\n",
        "      output_dict['detection_boxes'],\n",
        "      output_dict['detection_classes'],\n",
        "      output_dict['detection_scores'],\n",
        "      category_index,\n",
        "      instance_masks=output_dict.get('detection_masks'),\n",
        "      use_normalized_coordinates=True,\n",
        "      line_thickness=8)\n",
        "  plt.figure(figsize=IMAGE_SIZE)\n",
        "  plt.imshow(image_np)"
      ]
    },
    {
      "cell_type": "code",
      "execution_count": null,
      "metadata": {
        "id": "-JCChMpsfOz0"
      },
      "outputs": [],
      "source": [
        ""
      ]
    }
  ],
  "metadata": {
    "accelerator": "GPU",
    "colab": {
      "name": "FasterRCNN_Tutorial_MeyerA.ipynb",
      "provenance": []
    },
    "kernelspec": {
      "display_name": "Python 3 (ipykernel)",
      "language": "python",
      "name": "python3"
    },
    "language_info": {
      "codemirror_mode": {
        "name": "ipython",
        "version": 3
      },
      "file_extension": ".py",
      "mimetype": "text/x-python",
      "name": "python",
      "nbconvert_exporter": "python",
      "pygments_lexer": "ipython3",
      "version": "3.9.12"
    }
  },
  "nbformat": 4,
  "nbformat_minor": 0
}